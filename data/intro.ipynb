{
    "cells": [
        {
            "cell_type": "code",
            "execution_count": 2,
            "source": [
                "import pandas as pd"
            ],
            "outputs": [],
            "metadata": {}
        },
        {
            "cell_type": "code",
            "execution_count": 4,
            "source": [
                "airport = pd.Series([\n",
                "    \"Seattle\",\n",
                "    \"Dulles\",\n",
                "    \"London Heathrow\",\n",
                "    \"Schiphol\",\n",
                "    \"Changi\",\n",
                "    \"Pearson\",\n",
                "    \"Narita\"\n",
                "])\n",
                "\n",
                "airport"
            ],
            "outputs": [
                {
                    "output_type": "execute_result",
                    "data": {
                        "text/plain": [
                            "0            Seattle\n",
                            "1             Dulles\n",
                            "2    London Heathrow\n",
                            "3           Schiphol\n",
                            "4             Changi\n",
                            "5            Pearson\n",
                            "6             Narita\n",
                            "dtype: object"
                        ]
                    },
                    "metadata": {},
                    "execution_count": 4
                }
            ],
            "metadata": {}
        },
        {
            "cell_type": "code",
            "execution_count": 6,
            "source": [
                "airport[2]"
            ],
            "outputs": [
                {
                    "output_type": "execute_result",
                    "data": {
                        "text/plain": [
                            "'London Heathrow'"
                        ]
                    },
                    "metadata": {},
                    "execution_count": 6
                }
            ],
            "metadata": {}
        },
        {
            "cell_type": "code",
            "execution_count": 7,
            "source": [
                "for value in airport:\n",
                "    print(value)"
            ],
            "outputs": [
                {
                    "output_type": "stream",
                    "name": "stdout",
                    "text": [
                        "Seattle\n",
                        "Dulles\n",
                        "London Heathrow\n",
                        "Schiphol\n",
                        "Changi\n",
                        "Pearson\n",
                        "Narita\n"
                    ]
                }
            ],
            "metadata": {}
        },
        {
            "cell_type": "markdown",
            "source": [
                "## DataFrame"
            ],
            "metadata": {}
        },
        {
            "cell_type": "code",
            "execution_count": 11,
            "source": [
                "airports = pd.DataFrame([\n",
                "    [\"Seatle-Tacoma\", \"Seatle\", \"USA\"],\n",
                "    [\"Dulles\", \"Washington\", \"USA\"],\n",
                "    [\"London-Heathrow\", \"London\", \"UK\"],\n",
                "    [\"Schiphol\", \"Amsterdam\", \"Netherlands\"],\n",
                "    [\"Changi\", \"Singapore\", \"Singapore\"],\n",
                "    [\"Pearson\", \"Toronto\", \"Canada\"],\n",
                "    [\"Narita\", \"Tokyo\", \"Japan\"]\n",
                "    ],\n",
                "    columns = [\"Name\", \"City\", \"Country\"] \n",
                "    )\n",
                "\n",
                "airports"
            ],
            "outputs": [
                {
                    "output_type": "execute_result",
                    "data": {
                        "text/plain": [
                            "              Name        City      Country\n",
                            "0    Seatle-Tacoma      Seatle          USA\n",
                            "1           Dulles  Washington          USA\n",
                            "2  London-Heathrow      London           UK\n",
                            "3         Schiphol   Amsterdam  Netherlands\n",
                            "4           Changi   Singapore    Singapore\n",
                            "5          Pearson     Toronto       Canada\n",
                            "6           Narita       Tokyo        Japan"
                        ],
                        "text/html": [
                            "<div>\n",
                            "<style scoped>\n",
                            "    .dataframe tbody tr th:only-of-type {\n",
                            "        vertical-align: middle;\n",
                            "    }\n",
                            "\n",
                            "    .dataframe tbody tr th {\n",
                            "        vertical-align: top;\n",
                            "    }\n",
                            "\n",
                            "    .dataframe thead th {\n",
                            "        text-align: right;\n",
                            "    }\n",
                            "</style>\n",
                            "<table border=\"1\" class=\"dataframe\">\n",
                            "  <thead>\n",
                            "    <tr style=\"text-align: right;\">\n",
                            "      <th></th>\n",
                            "      <th>Name</th>\n",
                            "      <th>City</th>\n",
                            "      <th>Country</th>\n",
                            "    </tr>\n",
                            "  </thead>\n",
                            "  <tbody>\n",
                            "    <tr>\n",
                            "      <th>0</th>\n",
                            "      <td>Seatle-Tacoma</td>\n",
                            "      <td>Seatle</td>\n",
                            "      <td>USA</td>\n",
                            "    </tr>\n",
                            "    <tr>\n",
                            "      <th>1</th>\n",
                            "      <td>Dulles</td>\n",
                            "      <td>Washington</td>\n",
                            "      <td>USA</td>\n",
                            "    </tr>\n",
                            "    <tr>\n",
                            "      <th>2</th>\n",
                            "      <td>London-Heathrow</td>\n",
                            "      <td>London</td>\n",
                            "      <td>UK</td>\n",
                            "    </tr>\n",
                            "    <tr>\n",
                            "      <th>3</th>\n",
                            "      <td>Schiphol</td>\n",
                            "      <td>Amsterdam</td>\n",
                            "      <td>Netherlands</td>\n",
                            "    </tr>\n",
                            "    <tr>\n",
                            "      <th>4</th>\n",
                            "      <td>Changi</td>\n",
                            "      <td>Singapore</td>\n",
                            "      <td>Singapore</td>\n",
                            "    </tr>\n",
                            "    <tr>\n",
                            "      <th>5</th>\n",
                            "      <td>Pearson</td>\n",
                            "      <td>Toronto</td>\n",
                            "      <td>Canada</td>\n",
                            "    </tr>\n",
                            "    <tr>\n",
                            "      <th>6</th>\n",
                            "      <td>Narita</td>\n",
                            "      <td>Tokyo</td>\n",
                            "      <td>Japan</td>\n",
                            "    </tr>\n",
                            "  </tbody>\n",
                            "</table>\n",
                            "</div>"
                        ]
                    },
                    "metadata": {},
                    "execution_count": 11
                }
            ],
            "metadata": {}
        },
        {
            "cell_type": "markdown",
            "source": [
                "### Return first n of rows\n",
                "- head()"
            ],
            "metadata": {}
        },
        {
            "cell_type": "code",
            "execution_count": 12,
            "source": [
                "airports.head(3)"
            ],
            "outputs": [
                {
                    "output_type": "execute_result",
                    "data": {
                        "text/plain": [
                            "              Name        City Country\n",
                            "0    Seatle-Tacoma      Seatle     USA\n",
                            "1           Dulles  Washington     USA\n",
                            "2  London-Heathrow      London      UK"
                        ],
                        "text/html": [
                            "<div>\n",
                            "<style scoped>\n",
                            "    .dataframe tbody tr th:only-of-type {\n",
                            "        vertical-align: middle;\n",
                            "    }\n",
                            "\n",
                            "    .dataframe tbody tr th {\n",
                            "        vertical-align: top;\n",
                            "    }\n",
                            "\n",
                            "    .dataframe thead th {\n",
                            "        text-align: right;\n",
                            "    }\n",
                            "</style>\n",
                            "<table border=\"1\" class=\"dataframe\">\n",
                            "  <thead>\n",
                            "    <tr style=\"text-align: right;\">\n",
                            "      <th></th>\n",
                            "      <th>Name</th>\n",
                            "      <th>City</th>\n",
                            "      <th>Country</th>\n",
                            "    </tr>\n",
                            "  </thead>\n",
                            "  <tbody>\n",
                            "    <tr>\n",
                            "      <th>0</th>\n",
                            "      <td>Seatle-Tacoma</td>\n",
                            "      <td>Seatle</td>\n",
                            "      <td>USA</td>\n",
                            "    </tr>\n",
                            "    <tr>\n",
                            "      <th>1</th>\n",
                            "      <td>Dulles</td>\n",
                            "      <td>Washington</td>\n",
                            "      <td>USA</td>\n",
                            "    </tr>\n",
                            "    <tr>\n",
                            "      <th>2</th>\n",
                            "      <td>London-Heathrow</td>\n",
                            "      <td>London</td>\n",
                            "      <td>UK</td>\n",
                            "    </tr>\n",
                            "  </tbody>\n",
                            "</table>\n",
                            "</div>"
                        ]
                    },
                    "metadata": {},
                    "execution_count": 12
                }
            ],
            "metadata": {}
        },
        {
            "cell_type": "markdown",
            "source": [
                "### Return last n of rows\n",
                "- tail()"
            ],
            "metadata": {}
        },
        {
            "cell_type": "code",
            "execution_count": 13,
            "source": [
                "airports.tail(3)"
            ],
            "outputs": [
                {
                    "output_type": "execute_result",
                    "data": {
                        "text/plain": [
                            "      Name       City    Country\n",
                            "4   Changi  Singapore  Singapore\n",
                            "5  Pearson    Toronto     Canada\n",
                            "6   Narita      Tokyo      Japan"
                        ],
                        "text/html": [
                            "<div>\n",
                            "<style scoped>\n",
                            "    .dataframe tbody tr th:only-of-type {\n",
                            "        vertical-align: middle;\n",
                            "    }\n",
                            "\n",
                            "    .dataframe tbody tr th {\n",
                            "        vertical-align: top;\n",
                            "    }\n",
                            "\n",
                            "    .dataframe thead th {\n",
                            "        text-align: right;\n",
                            "    }\n",
                            "</style>\n",
                            "<table border=\"1\" class=\"dataframe\">\n",
                            "  <thead>\n",
                            "    <tr style=\"text-align: right;\">\n",
                            "      <th></th>\n",
                            "      <th>Name</th>\n",
                            "      <th>City</th>\n",
                            "      <th>Country</th>\n",
                            "    </tr>\n",
                            "  </thead>\n",
                            "  <tbody>\n",
                            "    <tr>\n",
                            "      <th>4</th>\n",
                            "      <td>Changi</td>\n",
                            "      <td>Singapore</td>\n",
                            "      <td>Singapore</td>\n",
                            "    </tr>\n",
                            "    <tr>\n",
                            "      <th>5</th>\n",
                            "      <td>Pearson</td>\n",
                            "      <td>Toronto</td>\n",
                            "      <td>Canada</td>\n",
                            "    </tr>\n",
                            "    <tr>\n",
                            "      <th>6</th>\n",
                            "      <td>Narita</td>\n",
                            "      <td>Tokyo</td>\n",
                            "      <td>Japan</td>\n",
                            "    </tr>\n",
                            "  </tbody>\n",
                            "</table>\n",
                            "</div>"
                        ]
                    },
                    "metadata": {},
                    "execution_count": 13
                }
            ],
            "metadata": {}
        },
        {
            "cell_type": "markdown",
            "source": [
                "### Checking the n rows and columns\n",
                "- shape"
            ],
            "metadata": {}
        },
        {
            "cell_type": "code",
            "execution_count": 14,
            "source": [
                "airports.shape"
            ],
            "outputs": [
                {
                    "output_type": "execute_result",
                    "data": {
                        "text/plain": [
                            "(7, 3)"
                        ]
                    },
                    "metadata": {},
                    "execution_count": 14
                }
            ],
            "metadata": {}
        },
        {
            "cell_type": "markdown",
            "source": [
                "Getting more detail info\n",
                "- info()\n",
                "- n of rows and range of index values\n",
                "- n of columns \n",
                "- For each column: column name, n non-null values, datatype"
            ],
            "metadata": {}
        },
        {
            "cell_type": "code",
            "execution_count": 15,
            "source": [
                "airports.info()"
            ],
            "outputs": [
                {
                    "output_type": "stream",
                    "name": "stdout",
                    "text": [
                        "<class 'pandas.core.frame.DataFrame'>\n",
                        "RangeIndex: 7 entries, 0 to 6\n",
                        "Data columns (total 3 columns):\n",
                        " #   Column   Non-Null Count  Dtype \n",
                        "---  ------   --------------  ----- \n",
                        " 0   Name     7 non-null      object\n",
                        " 1   City     7 non-null      object\n",
                        " 2   Country  7 non-null      object\n",
                        "dtypes: object(3)\n",
                        "memory usage: 296.0+ bytes\n"
                    ]
                }
            ],
            "metadata": {}
        },
        {
            "cell_type": "markdown",
            "source": [
                "## Return a column"
            ],
            "metadata": {}
        },
        {
            "cell_type": "code",
            "execution_count": 16,
            "source": [
                "airports['City']"
            ],
            "outputs": [
                {
                    "output_type": "execute_result",
                    "data": {
                        "text/plain": [
                            "0        Seatle\n",
                            "1    Washington\n",
                            "2        London\n",
                            "3     Amsterdam\n",
                            "4     Singapore\n",
                            "5       Toronto\n",
                            "6         Tokyo\n",
                            "Name: City, dtype: object"
                        ]
                    },
                    "metadata": {},
                    "execution_count": 16
                }
            ],
            "metadata": {}
        },
        {
            "cell_type": "markdown",
            "source": [
                "### Return specific columns"
            ],
            "metadata": {}
        },
        {
            "cell_type": "code",
            "execution_count": 17,
            "source": [
                "airports[['City', 'Name']]"
            ],
            "outputs": [
                {
                    "output_type": "execute_result",
                    "data": {
                        "text/plain": [
                            "         City             Name\n",
                            "0      Seatle    Seatle-Tacoma\n",
                            "1  Washington           Dulles\n",
                            "2      London  London-Heathrow\n",
                            "3   Amsterdam         Schiphol\n",
                            "4   Singapore           Changi\n",
                            "5     Toronto          Pearson\n",
                            "6       Tokyo           Narita"
                        ],
                        "text/html": [
                            "<div>\n",
                            "<style scoped>\n",
                            "    .dataframe tbody tr th:only-of-type {\n",
                            "        vertical-align: middle;\n",
                            "    }\n",
                            "\n",
                            "    .dataframe tbody tr th {\n",
                            "        vertical-align: top;\n",
                            "    }\n",
                            "\n",
                            "    .dataframe thead th {\n",
                            "        text-align: right;\n",
                            "    }\n",
                            "</style>\n",
                            "<table border=\"1\" class=\"dataframe\">\n",
                            "  <thead>\n",
                            "    <tr style=\"text-align: right;\">\n",
                            "      <th></th>\n",
                            "      <th>City</th>\n",
                            "      <th>Name</th>\n",
                            "    </tr>\n",
                            "  </thead>\n",
                            "  <tbody>\n",
                            "    <tr>\n",
                            "      <th>0</th>\n",
                            "      <td>Seatle</td>\n",
                            "      <td>Seatle-Tacoma</td>\n",
                            "    </tr>\n",
                            "    <tr>\n",
                            "      <th>1</th>\n",
                            "      <td>Washington</td>\n",
                            "      <td>Dulles</td>\n",
                            "    </tr>\n",
                            "    <tr>\n",
                            "      <th>2</th>\n",
                            "      <td>London</td>\n",
                            "      <td>London-Heathrow</td>\n",
                            "    </tr>\n",
                            "    <tr>\n",
                            "      <th>3</th>\n",
                            "      <td>Amsterdam</td>\n",
                            "      <td>Schiphol</td>\n",
                            "    </tr>\n",
                            "    <tr>\n",
                            "      <th>4</th>\n",
                            "      <td>Singapore</td>\n",
                            "      <td>Changi</td>\n",
                            "    </tr>\n",
                            "    <tr>\n",
                            "      <th>5</th>\n",
                            "      <td>Toronto</td>\n",
                            "      <td>Pearson</td>\n",
                            "    </tr>\n",
                            "    <tr>\n",
                            "      <th>6</th>\n",
                            "      <td>Tokyo</td>\n",
                            "      <td>Narita</td>\n",
                            "    </tr>\n",
                            "  </tbody>\n",
                            "</table>\n",
                            "</div>"
                        ]
                    },
                    "metadata": {},
                    "execution_count": 17
                }
            ],
            "metadata": {}
        },
        {
            "cell_type": "markdown",
            "source": [
                "### Use iloc to return specific rows and columns"
            ],
            "metadata": {}
        },
        {
            "cell_type": "code",
            "execution_count": 18,
            "source": [
                "# return first row and column\n",
                "airports.iloc[0,0]"
            ],
            "outputs": [
                {
                    "output_type": "execute_result",
                    "data": {
                        "text/plain": [
                            "'Seatle-Tacoma'"
                        ]
                    },
                    "metadata": {},
                    "execution_count": 18
                }
            ],
            "metadata": {}
        },
        {
            "cell_type": "markdown",
            "source": [
                "### Use : to return all rows and columns"
            ],
            "metadata": {}
        },
        {
            "cell_type": "code",
            "execution_count": 23,
            "source": [
                "airports.iloc[:, :]"
            ],
            "outputs": [
                {
                    "output_type": "execute_result",
                    "data": {
                        "text/plain": [
                            "              Name        City      Country\n",
                            "0    Seatle-Tacoma      Seatle          USA\n",
                            "1           Dulles  Washington          USA\n",
                            "2  London-Heathrow      London           UK\n",
                            "3         Schiphol   Amsterdam  Netherlands\n",
                            "4           Changi   Singapore    Singapore\n",
                            "5          Pearson     Toronto       Canada\n",
                            "6           Narita       Tokyo        Japan"
                        ],
                        "text/html": [
                            "<div>\n",
                            "<style scoped>\n",
                            "    .dataframe tbody tr th:only-of-type {\n",
                            "        vertical-align: middle;\n",
                            "    }\n",
                            "\n",
                            "    .dataframe tbody tr th {\n",
                            "        vertical-align: top;\n",
                            "    }\n",
                            "\n",
                            "    .dataframe thead th {\n",
                            "        text-align: right;\n",
                            "    }\n",
                            "</style>\n",
                            "<table border=\"1\" class=\"dataframe\">\n",
                            "  <thead>\n",
                            "    <tr style=\"text-align: right;\">\n",
                            "      <th></th>\n",
                            "      <th>Name</th>\n",
                            "      <th>City</th>\n",
                            "      <th>Country</th>\n",
                            "    </tr>\n",
                            "  </thead>\n",
                            "  <tbody>\n",
                            "    <tr>\n",
                            "      <th>0</th>\n",
                            "      <td>Seatle-Tacoma</td>\n",
                            "      <td>Seatle</td>\n",
                            "      <td>USA</td>\n",
                            "    </tr>\n",
                            "    <tr>\n",
                            "      <th>1</th>\n",
                            "      <td>Dulles</td>\n",
                            "      <td>Washington</td>\n",
                            "      <td>USA</td>\n",
                            "    </tr>\n",
                            "    <tr>\n",
                            "      <th>2</th>\n",
                            "      <td>London-Heathrow</td>\n",
                            "      <td>London</td>\n",
                            "      <td>UK</td>\n",
                            "    </tr>\n",
                            "    <tr>\n",
                            "      <th>3</th>\n",
                            "      <td>Schiphol</td>\n",
                            "      <td>Amsterdam</td>\n",
                            "      <td>Netherlands</td>\n",
                            "    </tr>\n",
                            "    <tr>\n",
                            "      <th>4</th>\n",
                            "      <td>Changi</td>\n",
                            "      <td>Singapore</td>\n",
                            "      <td>Singapore</td>\n",
                            "    </tr>\n",
                            "    <tr>\n",
                            "      <th>5</th>\n",
                            "      <td>Pearson</td>\n",
                            "      <td>Toronto</td>\n",
                            "      <td>Canada</td>\n",
                            "    </tr>\n",
                            "    <tr>\n",
                            "      <th>6</th>\n",
                            "      <td>Narita</td>\n",
                            "      <td>Tokyo</td>\n",
                            "      <td>Japan</td>\n",
                            "    </tr>\n",
                            "  </tbody>\n",
                            "</table>\n",
                            "</div>"
                        ]
                    },
                    "metadata": {},
                    "execution_count": 23
                }
            ],
            "metadata": {}
        },
        {
            "cell_type": "markdown",
            "source": [
                "### Return a range of columns and rows"
            ],
            "metadata": {}
        },
        {
            "cell_type": "code",
            "execution_count": 28,
            "source": [
                "# Return all rows and first and second columns\n",
                "airports.iloc[:, 0:2]"
            ],
            "outputs": [
                {
                    "output_type": "execute_result",
                    "data": {
                        "text/plain": [
                            "              Name        City\n",
                            "0    Seatle-Tacoma      Seatle\n",
                            "1           Dulles  Washington\n",
                            "2  London-Heathrow      London\n",
                            "3         Schiphol   Amsterdam\n",
                            "4           Changi   Singapore\n",
                            "5          Pearson     Toronto\n",
                            "6           Narita       Tokyo"
                        ],
                        "text/html": [
                            "<div>\n",
                            "<style scoped>\n",
                            "    .dataframe tbody tr th:only-of-type {\n",
                            "        vertical-align: middle;\n",
                            "    }\n",
                            "\n",
                            "    .dataframe tbody tr th {\n",
                            "        vertical-align: top;\n",
                            "    }\n",
                            "\n",
                            "    .dataframe thead th {\n",
                            "        text-align: right;\n",
                            "    }\n",
                            "</style>\n",
                            "<table border=\"1\" class=\"dataframe\">\n",
                            "  <thead>\n",
                            "    <tr style=\"text-align: right;\">\n",
                            "      <th></th>\n",
                            "      <th>Name</th>\n",
                            "      <th>City</th>\n",
                            "    </tr>\n",
                            "  </thead>\n",
                            "  <tbody>\n",
                            "    <tr>\n",
                            "      <th>0</th>\n",
                            "      <td>Seatle-Tacoma</td>\n",
                            "      <td>Seatle</td>\n",
                            "    </tr>\n",
                            "    <tr>\n",
                            "      <th>1</th>\n",
                            "      <td>Dulles</td>\n",
                            "      <td>Washington</td>\n",
                            "    </tr>\n",
                            "    <tr>\n",
                            "      <th>2</th>\n",
                            "      <td>London-Heathrow</td>\n",
                            "      <td>London</td>\n",
                            "    </tr>\n",
                            "    <tr>\n",
                            "      <th>3</th>\n",
                            "      <td>Schiphol</td>\n",
                            "      <td>Amsterdam</td>\n",
                            "    </tr>\n",
                            "    <tr>\n",
                            "      <th>4</th>\n",
                            "      <td>Changi</td>\n",
                            "      <td>Singapore</td>\n",
                            "    </tr>\n",
                            "    <tr>\n",
                            "      <th>5</th>\n",
                            "      <td>Pearson</td>\n",
                            "      <td>Toronto</td>\n",
                            "    </tr>\n",
                            "    <tr>\n",
                            "      <th>6</th>\n",
                            "      <td>Narita</td>\n",
                            "      <td>Tokyo</td>\n",
                            "    </tr>\n",
                            "  </tbody>\n",
                            "</table>\n",
                            "</div>"
                        ]
                    },
                    "metadata": {},
                    "execution_count": 28
                }
            ],
            "metadata": {}
        },
        {
            "cell_type": "code",
            "execution_count": 29,
            "source": [
                "# Return first and second rows and all columns\n",
                "airports.iloc[0:2, :]"
            ],
            "outputs": [
                {
                    "output_type": "execute_result",
                    "data": {
                        "text/plain": [
                            "            Name        City Country\n",
                            "0  Seatle-Tacoma      Seatle     USA\n",
                            "1         Dulles  Washington     USA"
                        ],
                        "text/html": [
                            "<div>\n",
                            "<style scoped>\n",
                            "    .dataframe tbody tr th:only-of-type {\n",
                            "        vertical-align: middle;\n",
                            "    }\n",
                            "\n",
                            "    .dataframe tbody tr th {\n",
                            "        vertical-align: top;\n",
                            "    }\n",
                            "\n",
                            "    .dataframe thead th {\n",
                            "        text-align: right;\n",
                            "    }\n",
                            "</style>\n",
                            "<table border=\"1\" class=\"dataframe\">\n",
                            "  <thead>\n",
                            "    <tr style=\"text-align: right;\">\n",
                            "      <th></th>\n",
                            "      <th>Name</th>\n",
                            "      <th>City</th>\n",
                            "      <th>Country</th>\n",
                            "    </tr>\n",
                            "  </thead>\n",
                            "  <tbody>\n",
                            "    <tr>\n",
                            "      <th>0</th>\n",
                            "      <td>Seatle-Tacoma</td>\n",
                            "      <td>Seatle</td>\n",
                            "      <td>USA</td>\n",
                            "    </tr>\n",
                            "    <tr>\n",
                            "      <th>1</th>\n",
                            "      <td>Dulles</td>\n",
                            "      <td>Washington</td>\n",
                            "      <td>USA</td>\n",
                            "    </tr>\n",
                            "  </tbody>\n",
                            "</table>\n",
                            "</div>"
                        ]
                    },
                    "metadata": {},
                    "execution_count": 29
                }
            ],
            "metadata": {}
        },
        {
            "cell_type": "markdown",
            "source": [
                "### Return a list of rows and columns"
            ],
            "metadata": {}
        },
        {
            "cell_type": "code",
            "execution_count": 30,
            "source": [
                "# Return 1st and 3rd rows and all columns \n",
                "airports.iloc[[0,2], :]"
            ],
            "outputs": [
                {
                    "output_type": "execute_result",
                    "data": {
                        "text/plain": [
                            "              Name    City Country\n",
                            "0    Seatle-Tacoma  Seatle     USA\n",
                            "2  London-Heathrow  London      UK"
                        ],
                        "text/html": [
                            "<div>\n",
                            "<style scoped>\n",
                            "    .dataframe tbody tr th:only-of-type {\n",
                            "        vertical-align: middle;\n",
                            "    }\n",
                            "\n",
                            "    .dataframe tbody tr th {\n",
                            "        vertical-align: top;\n",
                            "    }\n",
                            "\n",
                            "    .dataframe thead th {\n",
                            "        text-align: right;\n",
                            "    }\n",
                            "</style>\n",
                            "<table border=\"1\" class=\"dataframe\">\n",
                            "  <thead>\n",
                            "    <tr style=\"text-align: right;\">\n",
                            "      <th></th>\n",
                            "      <th>Name</th>\n",
                            "      <th>City</th>\n",
                            "      <th>Country</th>\n",
                            "    </tr>\n",
                            "  </thead>\n",
                            "  <tbody>\n",
                            "    <tr>\n",
                            "      <th>0</th>\n",
                            "      <td>Seatle-Tacoma</td>\n",
                            "      <td>Seatle</td>\n",
                            "      <td>USA</td>\n",
                            "    </tr>\n",
                            "    <tr>\n",
                            "      <th>2</th>\n",
                            "      <td>London-Heathrow</td>\n",
                            "      <td>London</td>\n",
                            "      <td>UK</td>\n",
                            "    </tr>\n",
                            "  </tbody>\n",
                            "</table>\n",
                            "</div>"
                        ]
                    },
                    "metadata": {},
                    "execution_count": 30
                }
            ],
            "metadata": {}
        },
        {
            "cell_type": "code",
            "execution_count": 31,
            "source": [
                "# Return all rows and 1st and 3rd columns\n",
                "airports.iloc[:, [0,2]]"
            ],
            "outputs": [
                {
                    "output_type": "execute_result",
                    "data": {
                        "text/plain": [
                            "              Name      Country\n",
                            "0    Seatle-Tacoma          USA\n",
                            "1           Dulles          USA\n",
                            "2  London-Heathrow           UK\n",
                            "3         Schiphol  Netherlands\n",
                            "4           Changi    Singapore\n",
                            "5          Pearson       Canada\n",
                            "6           Narita        Japan"
                        ],
                        "text/html": [
                            "<div>\n",
                            "<style scoped>\n",
                            "    .dataframe tbody tr th:only-of-type {\n",
                            "        vertical-align: middle;\n",
                            "    }\n",
                            "\n",
                            "    .dataframe tbody tr th {\n",
                            "        vertical-align: top;\n",
                            "    }\n",
                            "\n",
                            "    .dataframe thead th {\n",
                            "        text-align: right;\n",
                            "    }\n",
                            "</style>\n",
                            "<table border=\"1\" class=\"dataframe\">\n",
                            "  <thead>\n",
                            "    <tr style=\"text-align: right;\">\n",
                            "      <th></th>\n",
                            "      <th>Name</th>\n",
                            "      <th>Country</th>\n",
                            "    </tr>\n",
                            "  </thead>\n",
                            "  <tbody>\n",
                            "    <tr>\n",
                            "      <th>0</th>\n",
                            "      <td>Seatle-Tacoma</td>\n",
                            "      <td>USA</td>\n",
                            "    </tr>\n",
                            "    <tr>\n",
                            "      <th>1</th>\n",
                            "      <td>Dulles</td>\n",
                            "      <td>USA</td>\n",
                            "    </tr>\n",
                            "    <tr>\n",
                            "      <th>2</th>\n",
                            "      <td>London-Heathrow</td>\n",
                            "      <td>UK</td>\n",
                            "    </tr>\n",
                            "    <tr>\n",
                            "      <th>3</th>\n",
                            "      <td>Schiphol</td>\n",
                            "      <td>Netherlands</td>\n",
                            "    </tr>\n",
                            "    <tr>\n",
                            "      <th>4</th>\n",
                            "      <td>Changi</td>\n",
                            "      <td>Singapore</td>\n",
                            "    </tr>\n",
                            "    <tr>\n",
                            "      <th>5</th>\n",
                            "      <td>Pearson</td>\n",
                            "      <td>Canada</td>\n",
                            "    </tr>\n",
                            "    <tr>\n",
                            "      <th>6</th>\n",
                            "      <td>Narita</td>\n",
                            "      <td>Japan</td>\n",
                            "    </tr>\n",
                            "  </tbody>\n",
                            "</table>\n",
                            "</div>"
                        ]
                    },
                    "metadata": {},
                    "execution_count": 31
                }
            ],
            "metadata": {}
        },
        {
            "cell_type": "markdown",
            "source": [
                "### Use loc to return columns with names"
            ],
            "metadata": {}
        },
        {
            "cell_type": "code",
            "execution_count": 34,
            "source": [
                "airports.loc[:, ['Name', 'Country']]"
            ],
            "outputs": [
                {
                    "output_type": "execute_result",
                    "data": {
                        "text/plain": [
                            "              Name      Country\n",
                            "0    Seatle-Tacoma          USA\n",
                            "1           Dulles          USA\n",
                            "2  London-Heathrow           UK\n",
                            "3         Schiphol  Netherlands\n",
                            "4           Changi    Singapore\n",
                            "5          Pearson       Canada\n",
                            "6           Narita        Japan"
                        ],
                        "text/html": [
                            "<div>\n",
                            "<style scoped>\n",
                            "    .dataframe tbody tr th:only-of-type {\n",
                            "        vertical-align: middle;\n",
                            "    }\n",
                            "\n",
                            "    .dataframe tbody tr th {\n",
                            "        vertical-align: top;\n",
                            "    }\n",
                            "\n",
                            "    .dataframe thead th {\n",
                            "        text-align: right;\n",
                            "    }\n",
                            "</style>\n",
                            "<table border=\"1\" class=\"dataframe\">\n",
                            "  <thead>\n",
                            "    <tr style=\"text-align: right;\">\n",
                            "      <th></th>\n",
                            "      <th>Name</th>\n",
                            "      <th>Country</th>\n",
                            "    </tr>\n",
                            "  </thead>\n",
                            "  <tbody>\n",
                            "    <tr>\n",
                            "      <th>0</th>\n",
                            "      <td>Seatle-Tacoma</td>\n",
                            "      <td>USA</td>\n",
                            "    </tr>\n",
                            "    <tr>\n",
                            "      <th>1</th>\n",
                            "      <td>Dulles</td>\n",
                            "      <td>USA</td>\n",
                            "    </tr>\n",
                            "    <tr>\n",
                            "      <th>2</th>\n",
                            "      <td>London-Heathrow</td>\n",
                            "      <td>UK</td>\n",
                            "    </tr>\n",
                            "    <tr>\n",
                            "      <th>3</th>\n",
                            "      <td>Schiphol</td>\n",
                            "      <td>Netherlands</td>\n",
                            "    </tr>\n",
                            "    <tr>\n",
                            "      <th>4</th>\n",
                            "      <td>Changi</td>\n",
                            "      <td>Singapore</td>\n",
                            "    </tr>\n",
                            "    <tr>\n",
                            "      <th>5</th>\n",
                            "      <td>Pearson</td>\n",
                            "      <td>Canada</td>\n",
                            "    </tr>\n",
                            "    <tr>\n",
                            "      <th>6</th>\n",
                            "      <td>Narita</td>\n",
                            "      <td>Japan</td>\n",
                            "    </tr>\n",
                            "  </tbody>\n",
                            "</table>\n",
                            "</div>"
                        ]
                    },
                    "metadata": {},
                    "execution_count": 34
                }
            ],
            "metadata": {}
        },
        {
            "cell_type": "markdown",
            "source": [
                "### Load csv into dataframe"
            ],
            "metadata": {}
        },
        {
            "cell_type": "code",
            "execution_count": 36,
            "source": [
                "airport_df = pd.read_csv('data/airports.csv')\n",
                "airport_df"
            ],
            "outputs": [
                {
                    "output_type": "execute_result",
                    "data": {
                        "text/plain": [
                            "              Name         City       Country\n",
                            "0    Seatle-Tacoma       Seatle           USA\n",
                            "1           Dulles   Washington           USA\n",
                            "2  London-Heathrow       London            UK\n",
                            "3         Schiphol    Amsterdam   Netherlands\n",
                            "4           Changi    Singapore     Singapore\n",
                            "5          Pearson      Toronto        Canada\n",
                            "6           Narita        Tokyo         Japan"
                        ],
                        "text/html": [
                            "<div>\n",
                            "<style scoped>\n",
                            "    .dataframe tbody tr th:only-of-type {\n",
                            "        vertical-align: middle;\n",
                            "    }\n",
                            "\n",
                            "    .dataframe tbody tr th {\n",
                            "        vertical-align: top;\n",
                            "    }\n",
                            "\n",
                            "    .dataframe thead th {\n",
                            "        text-align: right;\n",
                            "    }\n",
                            "</style>\n",
                            "<table border=\"1\" class=\"dataframe\">\n",
                            "  <thead>\n",
                            "    <tr style=\"text-align: right;\">\n",
                            "      <th></th>\n",
                            "      <th>Name</th>\n",
                            "      <th>City</th>\n",
                            "      <th>Country</th>\n",
                            "    </tr>\n",
                            "  </thead>\n",
                            "  <tbody>\n",
                            "    <tr>\n",
                            "      <th>0</th>\n",
                            "      <td>Seatle-Tacoma</td>\n",
                            "      <td>Seatle</td>\n",
                            "      <td>USA</td>\n",
                            "    </tr>\n",
                            "    <tr>\n",
                            "      <th>1</th>\n",
                            "      <td>Dulles</td>\n",
                            "      <td>Washington</td>\n",
                            "      <td>USA</td>\n",
                            "    </tr>\n",
                            "    <tr>\n",
                            "      <th>2</th>\n",
                            "      <td>London-Heathrow</td>\n",
                            "      <td>London</td>\n",
                            "      <td>UK</td>\n",
                            "    </tr>\n",
                            "    <tr>\n",
                            "      <th>3</th>\n",
                            "      <td>Schiphol</td>\n",
                            "      <td>Amsterdam</td>\n",
                            "      <td>Netherlands</td>\n",
                            "    </tr>\n",
                            "    <tr>\n",
                            "      <th>4</th>\n",
                            "      <td>Changi</td>\n",
                            "      <td>Singapore</td>\n",
                            "      <td>Singapore</td>\n",
                            "    </tr>\n",
                            "    <tr>\n",
                            "      <th>5</th>\n",
                            "      <td>Pearson</td>\n",
                            "      <td>Toronto</td>\n",
                            "      <td>Canada</td>\n",
                            "    </tr>\n",
                            "    <tr>\n",
                            "      <th>6</th>\n",
                            "      <td>Narita</td>\n",
                            "      <td>Tokyo</td>\n",
                            "      <td>Japan</td>\n",
                            "    </tr>\n",
                            "  </tbody>\n",
                            "</table>\n",
                            "</div>"
                        ]
                    },
                    "metadata": {},
                    "execution_count": 36
                }
            ],
            "metadata": {}
        },
        {
            "cell_type": "markdown",
            "source": [
                "### Handling errors in our csv files\n",
                "using error_bad_lines=False"
            ],
            "metadata": {}
        },
        {
            "cell_type": "code",
            "execution_count": 40,
            "source": [
                "airport_df = pd.read_csv('data/airports-errors.csv', error_bad_lines=False)\n",
                "airport_df"
            ],
            "outputs": [
                {
                    "output_type": "stream",
                    "name": "stderr",
                    "text": [
                        "/Users/teddyagud/Library/Caches/pypoetry/virtualenvs/python-tricks-slWqnec4-py3.9/lib/python3.9/site-packages/IPython/core/interactiveshell.py:3441: FutureWarning: The error_bad_lines argument has been deprecated and will be removed in a future version.\n",
                        "\n",
                        "\n",
                        "  exec(code_obj, self.user_global_ns, self.user_ns)\n",
                        "b'Skipping line 4: expected 3 fields, saw 4\\n'\n"
                    ]
                },
                {
                    "output_type": "execute_result",
                    "data": {
                        "text/plain": [
                            "            Name         City       Country\n",
                            "0  Seatle-Tacoma       Seatle           USA\n",
                            "1         Dulles   Washington           USA\n",
                            "2       Schiphol    Amsterdam   Netherlands\n",
                            "3         Changi    Singapore     Singapore\n",
                            "4        Pearson      Toronto        Canada\n",
                            "5         Narita        Tokyo         Japan"
                        ],
                        "text/html": [
                            "<div>\n",
                            "<style scoped>\n",
                            "    .dataframe tbody tr th:only-of-type {\n",
                            "        vertical-align: middle;\n",
                            "    }\n",
                            "\n",
                            "    .dataframe tbody tr th {\n",
                            "        vertical-align: top;\n",
                            "    }\n",
                            "\n",
                            "    .dataframe thead th {\n",
                            "        text-align: right;\n",
                            "    }\n",
                            "</style>\n",
                            "<table border=\"1\" class=\"dataframe\">\n",
                            "  <thead>\n",
                            "    <tr style=\"text-align: right;\">\n",
                            "      <th></th>\n",
                            "      <th>Name</th>\n",
                            "      <th>City</th>\n",
                            "      <th>Country</th>\n",
                            "    </tr>\n",
                            "  </thead>\n",
                            "  <tbody>\n",
                            "    <tr>\n",
                            "      <th>0</th>\n",
                            "      <td>Seatle-Tacoma</td>\n",
                            "      <td>Seatle</td>\n",
                            "      <td>USA</td>\n",
                            "    </tr>\n",
                            "    <tr>\n",
                            "      <th>1</th>\n",
                            "      <td>Dulles</td>\n",
                            "      <td>Washington</td>\n",
                            "      <td>USA</td>\n",
                            "    </tr>\n",
                            "    <tr>\n",
                            "      <th>2</th>\n",
                            "      <td>Schiphol</td>\n",
                            "      <td>Amsterdam</td>\n",
                            "      <td>Netherlands</td>\n",
                            "    </tr>\n",
                            "    <tr>\n",
                            "      <th>3</th>\n",
                            "      <td>Changi</td>\n",
                            "      <td>Singapore</td>\n",
                            "      <td>Singapore</td>\n",
                            "    </tr>\n",
                            "    <tr>\n",
                            "      <th>4</th>\n",
                            "      <td>Pearson</td>\n",
                            "      <td>Toronto</td>\n",
                            "      <td>Canada</td>\n",
                            "    </tr>\n",
                            "    <tr>\n",
                            "      <th>5</th>\n",
                            "      <td>Narita</td>\n",
                            "      <td>Tokyo</td>\n",
                            "      <td>Japan</td>\n",
                            "    </tr>\n",
                            "  </tbody>\n",
                            "</table>\n",
                            "</div>"
                        ]
                    },
                    "metadata": {},
                    "execution_count": 40
                }
            ],
            "metadata": {}
        },
        {
            "cell_type": "markdown",
            "source": [
                "### Handling files with no column headers\n",
                "using header=None"
            ],
            "metadata": {}
        },
        {
            "cell_type": "code",
            "execution_count": 41,
            "source": [
                "airport_df = pd.read_csv('data/airports-errors-headers.csv', \n",
                "    error_bad_lines=False,\n",
                "    header=None)\n",
                "airport_df"
            ],
            "outputs": [
                {
                    "output_type": "stream",
                    "name": "stderr",
                    "text": [
                        "/Users/teddyagud/Library/Caches/pypoetry/virtualenvs/python-tricks-slWqnec4-py3.9/lib/python3.9/site-packages/IPython/core/interactiveshell.py:3441: FutureWarning: The error_bad_lines argument has been deprecated and will be removed in a future version.\n",
                        "\n",
                        "\n",
                        "  exec(code_obj, self.user_global_ns, self.user_ns)\n",
                        "b'Skipping line 3: expected 3 fields, saw 4\\n'\n"
                    ]
                },
                {
                    "output_type": "execute_result",
                    "data": {
                        "text/plain": [
                            "               0            1             2\n",
                            "0  Seatle-Tacoma       Seatle           USA\n",
                            "1         Dulles   Washington           USA\n",
                            "2       Schiphol    Amsterdam   Netherlands\n",
                            "3         Changi    Singapore     Singapore\n",
                            "4        Pearson      Toronto        Canada\n",
                            "5         Narita        Tokyo         Japan"
                        ],
                        "text/html": [
                            "<div>\n",
                            "<style scoped>\n",
                            "    .dataframe tbody tr th:only-of-type {\n",
                            "        vertical-align: middle;\n",
                            "    }\n",
                            "\n",
                            "    .dataframe tbody tr th {\n",
                            "        vertical-align: top;\n",
                            "    }\n",
                            "\n",
                            "    .dataframe thead th {\n",
                            "        text-align: right;\n",
                            "    }\n",
                            "</style>\n",
                            "<table border=\"1\" class=\"dataframe\">\n",
                            "  <thead>\n",
                            "    <tr style=\"text-align: right;\">\n",
                            "      <th></th>\n",
                            "      <th>0</th>\n",
                            "      <th>1</th>\n",
                            "      <th>2</th>\n",
                            "    </tr>\n",
                            "  </thead>\n",
                            "  <tbody>\n",
                            "    <tr>\n",
                            "      <th>0</th>\n",
                            "      <td>Seatle-Tacoma</td>\n",
                            "      <td>Seatle</td>\n",
                            "      <td>USA</td>\n",
                            "    </tr>\n",
                            "    <tr>\n",
                            "      <th>1</th>\n",
                            "      <td>Dulles</td>\n",
                            "      <td>Washington</td>\n",
                            "      <td>USA</td>\n",
                            "    </tr>\n",
                            "    <tr>\n",
                            "      <th>2</th>\n",
                            "      <td>Schiphol</td>\n",
                            "      <td>Amsterdam</td>\n",
                            "      <td>Netherlands</td>\n",
                            "    </tr>\n",
                            "    <tr>\n",
                            "      <th>3</th>\n",
                            "      <td>Changi</td>\n",
                            "      <td>Singapore</td>\n",
                            "      <td>Singapore</td>\n",
                            "    </tr>\n",
                            "    <tr>\n",
                            "      <th>4</th>\n",
                            "      <td>Pearson</td>\n",
                            "      <td>Toronto</td>\n",
                            "      <td>Canada</td>\n",
                            "    </tr>\n",
                            "    <tr>\n",
                            "      <th>5</th>\n",
                            "      <td>Narita</td>\n",
                            "      <td>Tokyo</td>\n",
                            "      <td>Japan</td>\n",
                            "    </tr>\n",
                            "  </tbody>\n",
                            "</table>\n",
                            "</div>"
                        ]
                    },
                    "metadata": {},
                    "execution_count": 41
                }
            ],
            "metadata": {}
        },
        {
            "cell_type": "markdown",
            "source": [
                "### using names parameter to specify columns with no headers "
            ],
            "metadata": {}
        },
        {
            "cell_type": "code",
            "execution_count": 47,
            "source": [
                "airport_df = pd.read_csv('data/airports-errors-headers.csv', \n",
                "    header=None,\n",
                "    names=['Name', 'City', 'Country'])\n",
                "airport_df"
            ],
            "outputs": [
                {
                    "output_type": "execute_result",
                    "data": {
                        "text/plain": [
                            "              Name         City       Country\n",
                            "0    Seatle-Tacoma       Seatle           USA\n",
                            "1           Dulles   Washington           USA\n",
                            "2  London-Heathrow       London            UK\n",
                            "3         Schiphol                Netherlands\n",
                            "4           Changi    Singapore     Singapore\n",
                            "5          Pearson      Toronto        Canada\n",
                            "6           Narita        Tokyo         Japan"
                        ],
                        "text/html": [
                            "<div>\n",
                            "<style scoped>\n",
                            "    .dataframe tbody tr th:only-of-type {\n",
                            "        vertical-align: middle;\n",
                            "    }\n",
                            "\n",
                            "    .dataframe tbody tr th {\n",
                            "        vertical-align: top;\n",
                            "    }\n",
                            "\n",
                            "    .dataframe thead th {\n",
                            "        text-align: right;\n",
                            "    }\n",
                            "</style>\n",
                            "<table border=\"1\" class=\"dataframe\">\n",
                            "  <thead>\n",
                            "    <tr style=\"text-align: right;\">\n",
                            "      <th></th>\n",
                            "      <th>Name</th>\n",
                            "      <th>City</th>\n",
                            "      <th>Country</th>\n",
                            "    </tr>\n",
                            "  </thead>\n",
                            "  <tbody>\n",
                            "    <tr>\n",
                            "      <th>0</th>\n",
                            "      <td>Seatle-Tacoma</td>\n",
                            "      <td>Seatle</td>\n",
                            "      <td>USA</td>\n",
                            "    </tr>\n",
                            "    <tr>\n",
                            "      <th>1</th>\n",
                            "      <td>Dulles</td>\n",
                            "      <td>Washington</td>\n",
                            "      <td>USA</td>\n",
                            "    </tr>\n",
                            "    <tr>\n",
                            "      <th>2</th>\n",
                            "      <td>London-Heathrow</td>\n",
                            "      <td>London</td>\n",
                            "      <td>UK</td>\n",
                            "    </tr>\n",
                            "    <tr>\n",
                            "      <th>3</th>\n",
                            "      <td>Schiphol</td>\n",
                            "      <td></td>\n",
                            "      <td>Netherlands</td>\n",
                            "    </tr>\n",
                            "    <tr>\n",
                            "      <th>4</th>\n",
                            "      <td>Changi</td>\n",
                            "      <td>Singapore</td>\n",
                            "      <td>Singapore</td>\n",
                            "    </tr>\n",
                            "    <tr>\n",
                            "      <th>5</th>\n",
                            "      <td>Pearson</td>\n",
                            "      <td>Toronto</td>\n",
                            "      <td>Canada</td>\n",
                            "    </tr>\n",
                            "    <tr>\n",
                            "      <th>6</th>\n",
                            "      <td>Narita</td>\n",
                            "      <td>Tokyo</td>\n",
                            "      <td>Japan</td>\n",
                            "    </tr>\n",
                            "  </tbody>\n",
                            "</table>\n",
                            "</div>"
                        ]
                    },
                    "metadata": {},
                    "execution_count": 47
                }
            ],
            "metadata": {}
        },
        {
            "cell_type": "markdown",
            "source": [
                "### Use to_csv to write a dataframe to a csv file\n",
                "specify index=False to ignore index values"
            ],
            "metadata": {}
        },
        {
            "cell_type": "code",
            "execution_count": 48,
            "source": [
                "airport_df.to_csv('data/new.csv', index=False)"
            ],
            "outputs": [],
            "metadata": {}
        }
    ],
    "metadata": {
        "orig_nbformat": 4,
        "language_info": {
            "name": "python",
            "version": "3.9.1",
            "mimetype": "text/x-python",
            "codemirror_mode": {
                "name": "ipython",
                "version": 3
            },
            "pygments_lexer": "ipython3",
            "nbconvert_exporter": "python",
            "file_extension": ".py"
        },
        "kernelspec": {
            "name": "python3",
            "display_name": "Python 3.9.1 64-bit ('python-tricks-slWqnec4-py3.9': poetry)"
        },
        "interpreter": {
            "hash": "edc945902ceae6ae2b8e7206fc85f7d44c26e6f39c37ee44ec2dbb71054f9b85"
        }
    },
    "nbformat": 4,
    "nbformat_minor": 2
}