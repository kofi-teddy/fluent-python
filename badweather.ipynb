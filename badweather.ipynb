{
 "cells": [
  {
   "cell_type": "markdown",
   "metadata": {},
   "source": [
    "## Homework 1\n",
    "\n",
    "You need to edit this .ipynb file by replacing \"# Your code\", \"# Your answer\", etc., click \"Restart & Run All\" in Jupyter Notebook to generate your results, and download it as an .html file. Please submit your .ipynb and .html files (instead of a .zip file) on Moodle. If you have questions regarding the homework, please email the TA Saumil Shah (sashah8@ncsu.edu), or attend our office hours.\n",
    "\n",
    "Let's first import the data:"
   ]
  },
  {
   "cell_type": "code",
   "execution_count": 275,
   "metadata": {},
   "outputs": [
    {
     "data": {
      "text/html": [
       "<div>\n",
       "<style scoped>\n",
       "    .dataframe tbody tr th:only-of-type {\n",
       "        vertical-align: middle;\n",
       "    }\n",
       "\n",
       "    .dataframe tbody tr th {\n",
       "        vertical-align: top;\n",
       "    }\n",
       "\n",
       "    .dataframe thead th {\n",
       "        text-align: right;\n",
       "    }\n",
       "</style>\n",
       "<table border=\"1\" class=\"dataframe\">\n",
       "  <thead>\n",
       "    <tr style=\"text-align: right;\">\n",
       "      <th></th>\n",
       "      <th>Date</th>\n",
       "      <th>Price</th>\n",
       "      <th>Zone</th>\n",
       "    </tr>\n",
       "  </thead>\n",
       "  <tbody>\n",
       "    <tr>\n",
       "      <th>0</th>\n",
       "      <td>2019-01-01 00:00:00</td>\n",
       "      <td>14.9375</td>\n",
       "      <td>LZ_SOUTH</td>\n",
       "    </tr>\n",
       "    <tr>\n",
       "      <th>1</th>\n",
       "      <td>2019-01-01 00:00:00</td>\n",
       "      <td>15.5050</td>\n",
       "      <td>LZ_LCRA</td>\n",
       "    </tr>\n",
       "    <tr>\n",
       "      <th>2</th>\n",
       "      <td>2019-01-01 00:00:00</td>\n",
       "      <td>14.8900</td>\n",
       "      <td>LZ_AEN</td>\n",
       "    </tr>\n",
       "    <tr>\n",
       "      <th>3</th>\n",
       "      <td>2019-01-01 00:00:00</td>\n",
       "      <td>13.4500</td>\n",
       "      <td>LZ_RAYBN</td>\n",
       "    </tr>\n",
       "    <tr>\n",
       "      <th>4</th>\n",
       "      <td>2019-01-01 00:00:00</td>\n",
       "      <td>12.5700</td>\n",
       "      <td>LZ_WEST</td>\n",
       "    </tr>\n",
       "    <tr>\n",
       "      <th>...</th>\n",
       "      <td>...</td>\n",
       "      <td>...</td>\n",
       "      <td>...</td>\n",
       "    </tr>\n",
       "    <tr>\n",
       "      <th>70067</th>\n",
       "      <td>2019-12-31 23:00:00</td>\n",
       "      <td>12.3925</td>\n",
       "      <td>LZ_SOUTH</td>\n",
       "    </tr>\n",
       "    <tr>\n",
       "      <th>70068</th>\n",
       "      <td>2019-12-31 23:00:00</td>\n",
       "      <td>12.3775</td>\n",
       "      <td>LZ_WEST</td>\n",
       "    </tr>\n",
       "    <tr>\n",
       "      <th>70069</th>\n",
       "      <td>2019-12-31 23:00:00</td>\n",
       "      <td>12.3925</td>\n",
       "      <td>LZ_LCRA</td>\n",
       "    </tr>\n",
       "    <tr>\n",
       "      <th>70070</th>\n",
       "      <td>2019-12-31 23:00:00</td>\n",
       "      <td>12.3925</td>\n",
       "      <td>LZ_CPS</td>\n",
       "    </tr>\n",
       "    <tr>\n",
       "      <th>70071</th>\n",
       "      <td>2019-12-31 23:00:00</td>\n",
       "      <td>12.3925</td>\n",
       "      <td>LZ_AEN</td>\n",
       "    </tr>\n",
       "  </tbody>\n",
       "</table>\n",
       "<p>70072 rows × 3 columns</p>\n",
       "</div>"
      ],
      "text/plain": [
       "                     Date    Price      Zone\n",
       "0     2019-01-01 00:00:00  14.9375  LZ_SOUTH\n",
       "1     2019-01-01 00:00:00  15.5050   LZ_LCRA\n",
       "2     2019-01-01 00:00:00  14.8900    LZ_AEN\n",
       "3     2019-01-01 00:00:00  13.4500  LZ_RAYBN\n",
       "4     2019-01-01 00:00:00  12.5700   LZ_WEST\n",
       "...                   ...      ...       ...\n",
       "70067 2019-12-31 23:00:00  12.3925  LZ_SOUTH\n",
       "70068 2019-12-31 23:00:00  12.3775   LZ_WEST\n",
       "70069 2019-12-31 23:00:00  12.3925   LZ_LCRA\n",
       "70070 2019-12-31 23:00:00  12.3925    LZ_CPS\n",
       "70071 2019-12-31 23:00:00  12.3925    LZ_AEN\n",
       "\n",
       "[70072 rows x 3 columns]"
      ]
     },
     "execution_count": 275,
     "metadata": {},
     "output_type": "execute_result"
    }
   ],
   "source": [
    "import numpy as np\n",
    "import pandas as pd\n",
    "from scipy import stats\n",
    "ercot = pd.read_csv('data/real-time-price.csv')\n",
    "ercot['Date'] = pd.to_datetime(ercot['Date'])\n",
    "ercot"
   ]
  },
  {
   "cell_type": "markdown",
   "metadata": {},
   "source": [
    "The following problems are independent (unless stated otherwise), meaning that all the manipulations are based on ercot.\n",
    "\n",
    "### Problem 1\n",
    "Consider a particular zone, say LZ_HOUSTON. Count the observations. Why is it less than 8760?"
   ]
  },
  {
   "cell_type": "code",
   "execution_count": 276,
   "metadata": {},
   "outputs": [
    {
     "data": {
      "text/plain": [
       "Date     8759\n",
       "Price    8759\n",
       "Zone     8759\n",
       "dtype: int64"
      ]
     },
     "execution_count": 276,
     "metadata": {},
     "output_type": "execute_result"
    }
   ],
   "source": [
    "ercot.loc[ercot.Zone == 'LZ_HOUSTON'].count()"
   ]
  },
  {
   "cell_type": "code",
   "execution_count": 277,
   "metadata": {},
   "outputs": [],
   "source": [
    "# Your answer (why is it less than 8760?)\n"
   ]
  },
  {
   "cell_type": "markdown",
   "metadata": {},
   "source": [
    "### Problem 2\n",
    "Consider the variable Price. What is the proportion (a number between 0 and 1) of negative prices?"
   ]
  },
  {
   "cell_type": "code",
   "execution_count": 321,
   "metadata": {},
   "outputs": [
    {
     "name": "stdout",
     "output_type": "stream",
     "text": [
      "Proportion of a number between (a number between 0 and 1) of negative prices 1.53713298791019\n"
     ]
    }
   ],
   "source": [
    "# Your code\n",
    "negative_df = ercot.loc[ercot.Price < 0]\n",
    "num_btn_0_1_df = ercot.loc[ercot.Price < 1]\n",
    "\n",
    "proportion = num_btn_0_1_df.Price.count()/negative_df.Price.count()\n",
    "print(\"Proportion of a number between (a number between 0 and 1) of negative prices\", proportion)"
   ]
  },
  {
   "cell_type": "code",
   "execution_count": null,
   "metadata": {},
   "outputs": [],
   "source": []
  },
  {
   "cell_type": "markdown",
   "metadata": {},
   "source": [
    "### Problem 3\n",
    "Print the row(s) with the highest Price and the row(s) with lowest Price."
   ]
  },
  {
   "cell_type": "code",
   "execution_count": 322,
   "metadata": {},
   "outputs": [
    {
     "data": {
      "text/html": [
       "<div>\n",
       "<style scoped>\n",
       "    .dataframe tbody tr th:only-of-type {\n",
       "        vertical-align: middle;\n",
       "    }\n",
       "\n",
       "    .dataframe tbody tr th {\n",
       "        vertical-align: top;\n",
       "    }\n",
       "\n",
       "    .dataframe thead th {\n",
       "        text-align: right;\n",
       "    }\n",
       "</style>\n",
       "<table border=\"1\" class=\"dataframe\">\n",
       "  <thead>\n",
       "    <tr style=\"text-align: right;\">\n",
       "      <th></th>\n",
       "      <th>Date</th>\n",
       "      <th>Price</th>\n",
       "      <th>Zone</th>\n",
       "    </tr>\n",
       "  </thead>\n",
       "  <tbody>\n",
       "    <tr>\n",
       "      <th>43512</th>\n",
       "      <td>2019-08-15 16:00:00</td>\n",
       "      <td>9000.0</td>\n",
       "      <td>LZ_AEN</td>\n",
       "    </tr>\n",
       "    <tr>\n",
       "      <th>43513</th>\n",
       "      <td>2019-08-15 16:00:00</td>\n",
       "      <td>9000.0</td>\n",
       "      <td>LZ_CPS</td>\n",
       "    </tr>\n",
       "    <tr>\n",
       "      <th>43514</th>\n",
       "      <td>2019-08-15 16:00:00</td>\n",
       "      <td>9000.0</td>\n",
       "      <td>LZ_LCRA</td>\n",
       "    </tr>\n",
       "    <tr>\n",
       "      <th>43515</th>\n",
       "      <td>2019-08-15 16:00:00</td>\n",
       "      <td>9000.0</td>\n",
       "      <td>LZ_NORTH</td>\n",
       "    </tr>\n",
       "    <tr>\n",
       "      <th>43516</th>\n",
       "      <td>2019-08-15 16:00:00</td>\n",
       "      <td>9000.0</td>\n",
       "      <td>LZ_RAYBN</td>\n",
       "    </tr>\n",
       "    <tr>\n",
       "      <th>43517</th>\n",
       "      <td>2019-08-15 16:00:00</td>\n",
       "      <td>9000.0</td>\n",
       "      <td>LZ_HOUSTON</td>\n",
       "    </tr>\n",
       "    <tr>\n",
       "      <th>43518</th>\n",
       "      <td>2019-08-15 16:00:00</td>\n",
       "      <td>9000.0</td>\n",
       "      <td>LZ_WEST</td>\n",
       "    </tr>\n",
       "    <tr>\n",
       "      <th>43519</th>\n",
       "      <td>2019-08-15 16:00:00</td>\n",
       "      <td>9000.0</td>\n",
       "      <td>LZ_SOUTH</td>\n",
       "    </tr>\n",
       "  </tbody>\n",
       "</table>\n",
       "</div>"
      ],
      "text/plain": [
       "                     Date   Price        Zone\n",
       "43512 2019-08-15 16:00:00  9000.0      LZ_AEN\n",
       "43513 2019-08-15 16:00:00  9000.0      LZ_CPS\n",
       "43514 2019-08-15 16:00:00  9000.0     LZ_LCRA\n",
       "43515 2019-08-15 16:00:00  9000.0    LZ_NORTH\n",
       "43516 2019-08-15 16:00:00  9000.0    LZ_RAYBN\n",
       "43517 2019-08-15 16:00:00  9000.0  LZ_HOUSTON\n",
       "43518 2019-08-15 16:00:00  9000.0     LZ_WEST\n",
       "43519 2019-08-15 16:00:00  9000.0    LZ_SOUTH"
      ]
     },
     "execution_count": 322,
     "metadata": {},
     "output_type": "execute_result"
    }
   ],
   "source": [
    "# Your code (highest)\n",
    "ercot.loc[ercot['Price'] == ercot['Price'].max()] "
   ]
  },
  {
   "cell_type": "code",
   "execution_count": 323,
   "metadata": {},
   "outputs": [
    {
     "data": {
      "text/html": [
       "<div>\n",
       "<style scoped>\n",
       "    .dataframe tbody tr th:only-of-type {\n",
       "        vertical-align: middle;\n",
       "    }\n",
       "\n",
       "    .dataframe tbody tr th {\n",
       "        vertical-align: top;\n",
       "    }\n",
       "\n",
       "    .dataframe thead th {\n",
       "        text-align: right;\n",
       "    }\n",
       "</style>\n",
       "<table border=\"1\" class=\"dataframe\">\n",
       "  <thead>\n",
       "    <tr style=\"text-align: right;\">\n",
       "      <th></th>\n",
       "      <th>Date</th>\n",
       "      <th>Price</th>\n",
       "      <th>Zone</th>\n",
       "    </tr>\n",
       "  </thead>\n",
       "  <tbody>\n",
       "    <tr>\n",
       "      <th>43512</th>\n",
       "      <td>2019-08-15 16:00:00</td>\n",
       "      <td>9000.0</td>\n",
       "      <td>LZ_AEN</td>\n",
       "    </tr>\n",
       "    <tr>\n",
       "      <th>43513</th>\n",
       "      <td>2019-08-15 16:00:00</td>\n",
       "      <td>9000.0</td>\n",
       "      <td>LZ_CPS</td>\n",
       "    </tr>\n",
       "    <tr>\n",
       "      <th>43514</th>\n",
       "      <td>2019-08-15 16:00:00</td>\n",
       "      <td>9000.0</td>\n",
       "      <td>LZ_LCRA</td>\n",
       "    </tr>\n",
       "    <tr>\n",
       "      <th>43515</th>\n",
       "      <td>2019-08-15 16:00:00</td>\n",
       "      <td>9000.0</td>\n",
       "      <td>LZ_NORTH</td>\n",
       "    </tr>\n",
       "    <tr>\n",
       "      <th>43516</th>\n",
       "      <td>2019-08-15 16:00:00</td>\n",
       "      <td>9000.0</td>\n",
       "      <td>LZ_RAYBN</td>\n",
       "    </tr>\n",
       "    <tr>\n",
       "      <th>43517</th>\n",
       "      <td>2019-08-15 16:00:00</td>\n",
       "      <td>9000.0</td>\n",
       "      <td>LZ_HOUSTON</td>\n",
       "    </tr>\n",
       "    <tr>\n",
       "      <th>43518</th>\n",
       "      <td>2019-08-15 16:00:00</td>\n",
       "      <td>9000.0</td>\n",
       "      <td>LZ_WEST</td>\n",
       "    </tr>\n",
       "    <tr>\n",
       "      <th>43519</th>\n",
       "      <td>2019-08-15 16:00:00</td>\n",
       "      <td>9000.0</td>\n",
       "      <td>LZ_SOUTH</td>\n",
       "    </tr>\n",
       "  </tbody>\n",
       "</table>\n",
       "</div>"
      ],
      "text/plain": [
       "                     Date   Price        Zone\n",
       "43512 2019-08-15 16:00:00  9000.0      LZ_AEN\n",
       "43513 2019-08-15 16:00:00  9000.0      LZ_CPS\n",
       "43514 2019-08-15 16:00:00  9000.0     LZ_LCRA\n",
       "43515 2019-08-15 16:00:00  9000.0    LZ_NORTH\n",
       "43516 2019-08-15 16:00:00  9000.0    LZ_RAYBN\n",
       "43517 2019-08-15 16:00:00  9000.0  LZ_HOUSTON\n",
       "43518 2019-08-15 16:00:00  9000.0     LZ_WEST\n",
       "43519 2019-08-15 16:00:00  9000.0    LZ_SOUTH"
      ]
     },
     "execution_count": 323,
     "metadata": {},
     "output_type": "execute_result"
    }
   ],
   "source": [
    "ercot.loc[ercot['Price'] == ercot['Price'].max()] "
   ]
  },
  {
   "cell_type": "code",
   "execution_count": 324,
   "metadata": {},
   "outputs": [
    {
     "data": {
      "text/html": [
       "<div>\n",
       "<style scoped>\n",
       "    .dataframe tbody tr th:only-of-type {\n",
       "        vertical-align: middle;\n",
       "    }\n",
       "\n",
       "    .dataframe tbody tr th {\n",
       "        vertical-align: top;\n",
       "    }\n",
       "\n",
       "    .dataframe thead th {\n",
       "        text-align: right;\n",
       "    }\n",
       "</style>\n",
       "<table border=\"1\" class=\"dataframe\">\n",
       "  <thead>\n",
       "    <tr style=\"text-align: right;\">\n",
       "      <th></th>\n",
       "      <th>Date</th>\n",
       "      <th>Price</th>\n",
       "      <th>Zone</th>\n",
       "    </tr>\n",
       "  </thead>\n",
       "  <tbody>\n",
       "    <tr>\n",
       "      <th>56650</th>\n",
       "      <td>2019-10-23 02:00:00</td>\n",
       "      <td>-22.23</td>\n",
       "      <td>LZ_WEST</td>\n",
       "    </tr>\n",
       "  </tbody>\n",
       "</table>\n",
       "</div>"
      ],
      "text/plain": [
       "                     Date  Price     Zone\n",
       "56650 2019-10-23 02:00:00 -22.23  LZ_WEST"
      ]
     },
     "execution_count": 324,
     "metadata": {},
     "output_type": "execute_result"
    }
   ],
   "source": [
    "# Your code (lowest)\n",
    "ercot.loc[ercot['Price'] == ercot['Price'].min()] "
   ]
  },
  {
   "cell_type": "markdown",
   "metadata": {},
   "source": [
    "### Problem 4\n",
    "Test the hypothesis that the mean of Price for zone LZ_HOUSTON is 30 at the significance level 5%."
   ]
  },
  {
   "cell_type": "code",
   "execution_count": 325,
   "metadata": {},
   "outputs": [
    {
     "name": "stdout",
     "output_type": "stream",
     "text": [
      "p-values 0.0054912309477494195\n"
     ]
    }
   ],
   "source": [
    "# Your code\n",
    "new_df = ercot.loc[ercot.Zone == 'LZ_HOUSTON']\n",
    "mean_value = new_df[\"Price\"].mean()\n",
    "\n",
    "tset, pval = stats.ttest_1samp(new_df[\"Price\"], 30)\n",
    "print(\"p-values\", pval)\n"
   ]
  },
  {
   "cell_type": "markdown",
   "metadata": {},
   "source": [
    "### Problem 5\n",
    "We have obtained the t-statistic in Problem 4. We can also compute the degrees of freedom from Problem 1. Use stats.cdf to verify the p-value obtained in Problem 4."
   ]
  },
  {
   "cell_type": "code",
   "execution_count": 326,
   "metadata": {},
   "outputs": [],
   "source": [
    "# Your code"
   ]
  },
  {
   "cell_type": "code",
   "execution_count": null,
   "metadata": {},
   "outputs": [],
   "source": []
  }
 ],
 "metadata": {
  "interpreter": {
   "hash": "a560cf7708db4fc83fd20d35a29ddc59ceb7b4440e58e07a5eb14a9fcad706b3"
  },
  "kernelspec": {
   "display_name": "Python 3.10.3 ('venv': venv)",
   "language": "python",
   "name": "python3"
  },
  "language_info": {
   "codemirror_mode": {
    "name": "ipython",
    "version": 3
   },
   "file_extension": ".py",
   "mimetype": "text/x-python",
   "name": "python",
   "nbconvert_exporter": "python",
   "pygments_lexer": "ipython3",
   "version": "3.10.3"
  },
  "orig_nbformat": 4
 },
 "nbformat": 4,
 "nbformat_minor": 2
}
